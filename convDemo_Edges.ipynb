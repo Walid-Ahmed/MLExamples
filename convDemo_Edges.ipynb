{
 "cells": [
  {
   "cell_type": "code",
   "execution_count": 35,
   "metadata": {},
   "outputs": [],
   "source": [
    "import numpy as np\n",
    "from scipy import misc\n",
    "import cv2\n",
    "from scipy import signal\n",
    "%matplotlib inline\n",
    "import skimage\n",
    "from skimage import data\n",
    "from matplotlib import pyplot as plt\n",
    "import math"
   ]
  },
  {
   "cell_type": "code",
   "execution_count": 8,
   "metadata": {},
   "outputs": [],
   "source": [
    "def convolve(image,filter):\n",
    "\tfilterR= np.rot90(filter, 2)\n",
    "\tfilterMap = signal.convolve2d(image, filterR, 'valid')\n",
    "\treturn  filterMap"
   ]
  },
  {
   "cell_type": "code",
   "execution_count": 39,
   "metadata": {},
   "outputs": [],
   "source": [
    "def showImageFromArray(image,title,normalize=False):\n",
    "\timage=np.asarray(image)\n",
    "\timage=abs(image) \n",
    "\timage = image.astype(np.uint8)   #Unsigned integer (0 to 255)\n",
    "\tprint(image)\n",
    "\tif(normalize):\n",
    "\t\tcv2.normalize(image, image, 0, 255, cv2.NORM_MINMAX)\n",
    "\n",
    "\tplt.imshow(image,cmap='gray')\n",
    "\tplt.show()\n"
   ]
  },
  {
   "cell_type": "code",
   "execution_count": 33,
   "metadata": {},
   "outputs": [],
   "source": [
    "def showOperation(image,filter):\n",
    "    featureMap=convolve(image,filter)\n",
    "    showImageFromArray(image,\"Image\",normalize=True)\n",
    "    showImageFromArray(featureMap,\"filterMap\",normalize=True)\n",
    "    print (featureMap)\n"
   ]
  },
  {
   "cell_type": "code",
   "execution_count": 30,
   "metadata": {},
   "outputs": [],
   "source": [
    "#Define filters to detect verical edges\n",
    "vFilter=[[1,0,-1],[1,0,-1],[1,0,-1]]\n",
    "hFilter=[[1,1,1],[0,0,0],[-1,-1,-1]]"
   ]
  },
  {
   "cell_type": "code",
   "execution_count": 40,
   "metadata": {},
   "outputs": [
    {
     "name": "stdout",
     "output_type": "stream",
     "text": [
      "[[10 10 10  0  0  0]\n",
      " [10 10 10  0  0  0]\n",
      " [10 10 10  0  0  0]\n",
      " [ 0  0  0 10 10 10]\n",
      " [ 0  0  0 10 10 10]\n",
      " [ 0  0  0 10 10 10]]\n"
     ]
    },
    {
     "data": {
      "image/png": "[encoded data removed]",
      "text/plain": [
       "<Figure size 432x288 with 1 Axes>"
      ]
     },
     "metadata": {
      "needs_background": "light"
     },
     "output_type": "display_data"
    },
    {
     "name": "stdout",
     "output_type": "stream",
     "text": [
      "[[ 0  0  0  0]\n",
      " [30 10 10 30]\n",
      " [30 10 10 30]\n",
      " [ 0  0  0  0]]\n"
     ]
    },
    {
     "data": {
      "image/png": "[encoded data removed]",
      "text/plain": [
       "<Figure size 432x288 with 1 Axes>"
      ]
     },
     "metadata": {
      "needs_background": "light"
     },
     "output_type": "display_data"
    },
    {
     "name": "stdout",
     "output_type": "stream",
     "text": [
      "[[  0   0   0   0]\n",
      " [ 30  10 -10 -30]\n",
      " [ 30  10 -10 -30]\n",
      " [  0   0   0   0]]\n"
     ]
    }
   ],
   "source": [
    "showOperation(image,hFilter)"
   ]
  },
  {
   "cell_type": "code",
   "execution_count": null,
   "metadata": {},
   "outputs": [],
   "source": []
  }
 ],
 "metadata": {
  "kernelspec": {
   "display_name": "Python 3",
   "language": "python",
   "name": "python3"
  },
  "language_info": {
   "codemirror_mode": {
    "name": "ipython",
    "version": 3
   },
   "file_extension": ".py",
   "mimetype": "text/x-python",
   "name": "python",
   "nbconvert_exporter": "python",
   "pygments_lexer": "ipython3",
   "version": "3.6.8"
  }
 },
 "nbformat": 4,
 "nbformat_minor": 2
}
