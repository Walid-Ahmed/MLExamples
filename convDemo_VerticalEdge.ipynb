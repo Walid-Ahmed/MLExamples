{
 "cells": [
  {
   "cell_type": "code",
   "execution_count": 15,
   "metadata": {},
   "outputs": [],
   "source": [
    "import numpy as np\n",
    "from scipy import misc\n",
    "import cv2\n",
    "from scipy import signal\n",
    "%matplotlib inline\n",
    "import skimage\n",
    "from skimage import data\n",
    "from matplotlib import pyplot as plt"
   ]
  },
  {
   "cell_type": "code",
   "execution_count": 2,
   "metadata": {},
   "outputs": [],
   "source": [
    "def convolve(image,filter):\n",
    "\tfilterR= np.rot90(filter, 2)\n",
    "\tfilterMap = signal.convolve2d(image, filterR, 'valid')\n",
    "\treturn  filterMap"
   ]
  },
  {
   "cell_type": "code",
   "execution_count": 16,
   "metadata": {},
   "outputs": [],
   "source": [
    "def showImageFromArray(image,title,normalize=False):\n",
    "\timage=np.asarray(image)\n",
    "\timage = image.astype(np.uint8)   #Unsigned integer (0 to 255)\n",
    "\n",
    "\tif(normalize):\n",
    "\t\tcv2.normalize(image, image, 0, 255, cv2.NORM_MINMAX)\n",
    "\n",
    "\tplt.imshow(image,cmap='gray')\n",
    "\tplt.show()\n"
   ]
  },
  {
   "cell_type": "code",
   "execution_count": 41,
   "metadata": {},
   "outputs": [],
   "source": [
    "def showOperation(image,filter):\n",
    "    featureMap=convolve(image,filter)\n",
    "    showImageFromArray(image,\"Image\",normalize=True)\n",
    "    showImageFromArray(featureMap,\"filterMap\",normalize=True)\n",
    "    print (featureMap)\n"
   ]
  },
  {
   "cell_type": "code",
   "execution_count": 37,
   "metadata": {},
   "outputs": [],
   "source": [
    "image=[\n",
    "[10,10,10,0,0,0],\n",
    "[10,10,10,0,0,0],\n",
    "[10,10,10,0,0,0],\n",
    "[10,10,10,0,0,0],\n",
    "[10,10,10,0,0,0],\n",
    "[10,10,10,0,0,0],\n",
    "]"
   ]
  },
  {
   "cell_type": "code",
   "execution_count": null,
   "metadata": {},
   "outputs": [],
   "source": [
    "#Define filters to detect verical edges\n",
    "vFilter=[[1,0,-1],[1,0,-1],[1,0,-1]]\n",
    "sobelFilter=[[1,0,-1],[2,0,-2],[1,0,-1]]\n",
    "ScharrFilter=[[3,0,-3],[10,0,-10],[3,0,-3]]"
   ]
  },
  {
   "cell_type": "code",
   "execution_count": null,
   "metadata": {},
   "outputs": [],
   "source": [
    "#Define filters to detect horizontal edges\n",
    "vFilter=[[1,0,-1],[1,0,-1],[1,0,-1]]\n",
    "sobelFilter=[[1,0,-1],[2,0,-2],[1,0,-1]]\n",
    "ScharrFilter=[[3,0,-3],[10,0,-10],[3,0,-3]]"
   ]
  },
  {
   "cell_type": "code",
   "execution_count": 42,
   "metadata": {},
   "outputs": [
    {
     "data": {
      "image/png": "[encoded data removed]",
      "text/plain": [
       "<Figure size 432x288 with 1 Axes>"
      ]
     },
     "metadata": {
      "needs_background": "light"
     },
     "output_type": "display_data"
    },
    {
     "data": {
      "image/png": "[encoded data removed]",
      "text/plain": [
       "<Figure size 432x288 with 1 Axes>"
      ]
     },
     "metadata": {
      "needs_background": "light"
     },
     "output_type": "display_data"
    },
    {
     "name": "stdout",
     "output_type": "stream",
     "text": [
      "[[ 0 30 30  0]\n",
      " [ 0 30 30  0]\n",
      " [ 0 30 30  0]\n",
      " [ 0 30 30  0]]\n"
     ]
    }
   ],
   "source": [
    "showOperation(image,filter)"
   ]
  },
  {
   "cell_type": "code",
   "execution_count": 44,
   "metadata": {},
   "outputs": [
    {
     "data": {
      "image/png": "[encoded data removed]",
      "text/plain": [
       "<Figure size 432x288 with 1 Axes>"
      ]
     },
     "metadata": {
      "needs_background": "light"
     },
     "output_type": "display_data"
    },
    {
     "data": {
      "image/png": "[encoded data removed]",
      "text/plain": [
       "<Figure size 432x288 with 1 Axes>"
      ]
     },
     "metadata": {
      "needs_background": "light"
     },
     "output_type": "display_data"
    },
    {
     "name": "stdout",
     "output_type": "stream",
     "text": [
      "[[ 0 40 40  0]\n",
      " [ 0 40 40  0]\n",
      " [ 0 40 40  0]\n",
      " [ 0 40 40  0]]\n"
     ]
    }
   ],
   "source": [
    "showOperation(image,sobelFilter)"
   ]
  },
  {
   "cell_type": "code",
   "execution_count": 43,
   "metadata": {},
   "outputs": [
    {
     "data": {
      "image/png": "[encoded data removed]",
      "text/plain": [
       "<Figure size 432x288 with 1 Axes>"
      ]
     },
     "metadata": {
      "needs_background": "light"
     },
     "output_type": "display_data"
    },
    {
     "data": {
      "image/png": "[encoded data removed]",
      "text/plain": [
       "<Figure size 432x288 with 1 Axes>"
      ]
     },
     "metadata": {
      "needs_background": "light"
     },
     "output_type": "display_data"
    },
    {
     "name": "stdout",
     "output_type": "stream",
     "text": [
      "[[  0 160 160   0]\n",
      " [  0 160 160   0]\n",
      " [  0 160 160   0]\n",
      " [  0 160 160   0]]\n"
     ]
    }
   ],
   "source": [
    "showOperation(image,ScharrFilter)"
   ]
  },
  {
   "cell_type": "code",
   "execution_count": null,
   "metadata": {},
   "outputs": [],
   "source": []
  }
 ],
 "metadata": {
  "kernelspec": {
   "display_name": "Python 3",
   "language": "python",
   "name": "python3"
  },
  "language_info": {
   "codemirror_mode": {
    "name": "ipython",
    "version": 3
   },
   "file_extension": ".py",
   "mimetype": "text/x-python",
   "name": "python",
   "nbconvert_exporter": "python",
   "pygments_lexer": "ipython3",
   "version": "3.6.8"
  }
 },
 "nbformat": 4,
 "nbformat_minor": 2
}
